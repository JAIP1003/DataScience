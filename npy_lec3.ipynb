{
 "cells": [
  {
   "cell_type": "markdown",
   "metadata": {},
   "source": [
    "# Numpy: Slicing/Stacking and Indexing with boolean arrays"
   ]
  },
  {
   "cell_type": "raw",
   "metadata": {},
   "source": [
    "# Topic\n",
    "\n",
    "1) Indexing and slicing\n",
    "2) Iterating throgh arrays\n",
    "3)Stacking together two arrays\n",
    "4)Indexing with boolean arrays"
   ]
  },
  {
   "cell_type": "code",
   "execution_count": null,
   "metadata": {},
   "outputs": [],
   "source": [
    "# Indexing and Slicing"
   ]
  },
  {
   "cell_type": "code",
   "execution_count": 10,
   "metadata": {},
   "outputs": [
    {
     "name": "stdout",
     "output_type": "stream",
     "text": [
      "Requirement already satisfied: numpy in ./anaconda3/lib/python3.7/site-packages (1.18.1)\n",
      "Note: you may need to restart the kernel to use updated packages.\n"
     ]
    }
   ],
   "source": [
    "pip install numpy"
   ]
  },
  {
   "cell_type": "code",
   "execution_count": 11,
   "metadata": {},
   "outputs": [],
   "source": [
    "import numpy as np"
   ]
  },
  {
   "cell_type": "code",
   "execution_count": 12,
   "metadata": {},
   "outputs": [
    {
     "name": "stdout",
     "output_type": "stream",
     "text": [
      "[4, 5]\n",
      "\n",
      "[4, 5, 6]\n",
      "\n",
      "7\n",
      "\n",
      "[5, 6]\n",
      "[4 5]\n",
      "\n",
      "[4 5 6]\n",
      "\n",
      "7\n",
      "\n",
      "[5 6]\n"
     ]
    }
   ],
   "source": [
    "# normal python -list\n",
    "n=[4,5,6,7]\n",
    "print(n[0:2])\n",
    "print()\n",
    "print(n[0:3])\n",
    "print()\n",
    "print(n[-1])\n",
    "print()\n",
    "print(n[-3:-1])\n",
    "\n",
    "\n",
    "# Now in numpy array\n",
    "a= np.array([4,5,6,7])\n",
    "print(a[0:2])\n",
    "print()\n",
    "print(a[0:3])\n",
    "print()\n",
    "print(a[-1])\n",
    "print()\n",
    "print(a[-3:-1])"
   ]
  },
  {
   "cell_type": "code",
   "execution_count": 25,
   "metadata": {},
   "outputs": [
    {
     "name": "stdout",
     "output_type": "stream",
     "text": [
      "9\n",
      "\n",
      "6\n",
      "\n",
      "[3 6]\n",
      "\n",
      "[5]\n",
      "\n",
      "[4 5]\n",
      "\n",
      "[[2 3]\n",
      " [5 6]\n",
      " [8 9]]\n"
     ]
    }
   ],
   "source": [
    "# two or three D array\n",
    "a2=np.array([[1,2,3],[4,5,6],[7,8,9]])\n",
    "print(a2[2,2])\n",
    "print()\n",
    "print(a2[1,2])\n",
    "print()\n",
    "print(a2[0:2,2])\n",
    "\n",
    "print()\n",
    "print(a2[1,1:2])\n",
    "print()\n",
    "print(a2[1,0:2])\n",
    "print()\n",
    "print(a2[:,1:3])\n"
   ]
  },
  {
   "cell_type": "markdown",
   "metadata": {},
   "source": [
    "# how to iterate through an array"
   ]
  },
  {
   "cell_type": "code",
   "execution_count": 29,
   "metadata": {},
   "outputs": [
    {
     "name": "stdout",
     "output_type": "stream",
     "text": [
      "[1 2 3]\n",
      "[4 5 6]\n",
      "[7 8 9]\n",
      "\n",
      "4\n",
      "5\n",
      "6\n",
      "7\n",
      "\n",
      "1\n",
      "2\n",
      "3\n",
      "4\n",
      "5\n",
      "6\n",
      "7\n",
      "8\n",
      "9\n"
     ]
    }
   ],
   "source": [
    "a2=np.array([[1,2,3],[4,5,6],[7,8,9]])\n",
    "\n",
    "for row in a2:\n",
    "    print(row)\n",
    "    \n",
    "print()\n",
    "for row in a:\n",
    "    print(row)\n",
    "\n",
    "print()\n",
    "for cell in a2.flat:\n",
    "    print(cell)"
   ]
  },
  {
   "cell_type": "markdown",
   "metadata": {},
   "source": [
    "# stacking the arrays"
   ]
  },
  {
   "cell_type": "code",
   "execution_count": 34,
   "metadata": {},
   "outputs": [
    {
     "name": "stdout",
     "output_type": "stream",
     "text": [
      "[[0 1 2]\n",
      " [3 4 5]]\n",
      "\n",
      "[[ 6  7  8]\n",
      " [ 9 10 11]]\n"
     ]
    },
    {
     "data": {
      "text/plain": [
       "array([[ 0,  1,  2],\n",
       "       [ 3,  4,  5],\n",
       "       [ 6,  7,  8],\n",
       "       [ 9, 10, 11]])"
      ]
     },
     "execution_count": 34,
     "metadata": {},
     "output_type": "execute_result"
    }
   ],
   "source": [
    "a1=np.arange(6).reshape(2,3)\n",
    "a2=np.arange(6,12).reshape(2,3)\n",
    "print(a1)\n",
    "print()\n",
    "print(a2)\n",
    "\n",
    "#vertical stacking\n",
    "np.vstack((a1,a2))\n",
    "\n"
   ]
  },
  {
   "cell_type": "code",
   "execution_count": 33,
   "metadata": {},
   "outputs": [
    {
     "data": {
      "text/plain": [
       "array([[ 0,  1,  2,  6,  7,  8],\n",
       "       [ 3,  4,  5,  9, 10, 11]])"
      ]
     },
     "execution_count": 33,
     "metadata": {},
     "output_type": "execute_result"
    }
   ],
   "source": [
    "#horizontal stacking\n",
    "np.hstack((a1,a2))"
   ]
  },
  {
   "cell_type": "markdown",
   "metadata": {},
   "source": [
    "# Splitting"
   ]
  },
  {
   "cell_type": "code",
   "execution_count": 44,
   "metadata": {},
   "outputs": [
    {
     "name": "stdout",
     "output_type": "stream",
     "text": [
      "[[ 0  1  2  3  4  5  6  7  8  9]\n",
      " [10 11 12 13 14 15 16 17 18 19]\n",
      " [20 21 22 23 24 25 26 27 28 29]]\n",
      "\n",
      "[array([[ 0,  1,  2,  3,  4],\n",
      "       [10, 11, 12, 13, 14],\n",
      "       [20, 21, 22, 23, 24]]), array([[ 5,  6,  7,  8,  9],\n",
      "       [15, 16, 17, 18, 19],\n",
      "       [25, 26, 27, 28, 29]])]\n",
      "\n",
      "[[ 0  1  2  3  4  5  6  7  8  9]\n",
      " [10 11 12 13 14 15 16 17 18 19]\n",
      " [20 21 22 23 24 25 26 27 28 29]]\n",
      "\n",
      "[array([[ 0,  1],\n",
      "       [10, 11],\n",
      "       [20, 21]]), array([[ 2,  3],\n",
      "       [12, 13],\n",
      "       [22, 23]]), array([[ 4,  5],\n",
      "       [14, 15],\n",
      "       [24, 25]]), array([[ 6,  7],\n",
      "       [16, 17],\n",
      "       [26, 27]]), array([[ 8,  9],\n",
      "       [18, 19],\n",
      "       [28, 29]])]\n",
      "\n",
      "[[ 0  1]\n",
      " [10 11]\n",
      " [20 21]]\n",
      "\n"
     ]
    }
   ],
   "source": [
    "a1=np.arange(30).reshape(3,10)\n",
    "print(a1)\n",
    "print()\n",
    "print(np.hsplit(a1,2))\n",
    "print()\n",
    "print(a1)\n",
    "print()\n",
    "print(np.hsplit(a1,5))\n",
    "print()\n",
    "result=np.hsplit(a1,5)\n",
    "print(result[0])\n",
    "print()"
   ]
  },
  {
   "cell_type": "code",
   "execution_count": 47,
   "metadata": {},
   "outputs": [
    {
     "name": "stdout",
     "output_type": "stream",
     "text": [
      "[array([[0, 1, 2, 3, 4, 5, 6, 7, 8, 9]]), array([[10, 11, 12, 13, 14, 15, 16, 17, 18, 19]]), array([[20, 21, 22, 23, 24, 25, 26, 27, 28, 29]])]\n"
     ]
    }
   ],
   "source": [
    "# Vertical Split\n",
    "result=np.vsplit(a1,3)\n",
    "print(result)"
   ]
  },
  {
   "cell_type": "markdown",
   "metadata": {},
   "source": [
    "# indexing with boolean"
   ]
  },
  {
   "cell_type": "code",
   "execution_count": 56,
   "metadata": {},
   "outputs": [
    {
     "name": "stdout",
     "output_type": "stream",
     "text": [
      "[[ 0  1  2  3  4]\n",
      " [ 5  6  7  8  9]\n",
      " [10 11 12 13 14]]\n",
      "\n",
      "[[False False False False False]\n",
      " [ True  True  True  True  True]\n",
      " [ True  True  True  True  True]]\n",
      "\n",
      "[ 5  6  7  8  9 10 11 12 13 14]\n",
      "\n",
      "[[ 0  1  2  3  4]\n",
      " [ 5  6  7  8  9]\n",
      " [10 11 12 13 14]]\n",
      "\n",
      "[-1 -1 -1 -1 -1 -1 -1 -1 -1 -1]\n"
     ]
    }
   ],
   "source": [
    "a=np.arange(15).reshape(3,5)\n",
    "print(a)\n",
    "print()\n",
    "\n",
    "b=a>4\n",
    "print(b)\n",
    "print()\n",
    "\n",
    "# to return the value of element after certain comparision\n",
    "c=a[b]\n",
    "print(c)\n",
    "print()\n",
    "print(a)\n",
    "print()\n",
    "\n",
    "# to replace the element of array which satisfy certain condition\n",
    "a[b]=-1\n",
    "print(a[b])"
   ]
  },
  {
   "cell_type": "code",
   "execution_count": null,
   "metadata": {},
   "outputs": [],
   "source": []
  }
 ],
 "metadata": {
  "kernelspec": {
   "display_name": "Python 3",
   "language": "python",
   "name": "python3"
  },
  "language_info": {
   "codemirror_mode": {
    "name": "ipython",
    "version": 3
   },
   "file_extension": ".py",
   "mimetype": "text/x-python",
   "name": "python",
   "nbconvert_exporter": "python",
   "pygments_lexer": "ipython3",
   "version": "3.7.6"
  }
 },
 "nbformat": 4,
 "nbformat_minor": 4
}
