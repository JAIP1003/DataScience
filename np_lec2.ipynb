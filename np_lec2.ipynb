{
 "cells": [
  {
   "cell_type": "markdown",
   "metadata": {},
   "source": [
    "# Numpy: Basic array operation"
   ]
  },
  {
   "cell_type": "code",
   "execution_count": 1,
   "metadata": {},
   "outputs": [
    {
     "name": "stdout",
     "output_type": "stream",
     "text": [
      "Requirement already satisfied: numpy in ./anaconda3/lib/python3.7/site-packages (1.18.1)\n",
      "Note: you may need to restart the kernel to use updated packages.\n"
     ]
    }
   ],
   "source": [
    "pip install numpy"
   ]
  },
  {
   "cell_type": "code",
   "execution_count": 2,
   "metadata": {},
   "outputs": [],
   "source": [
    "import numpy as np"
   ]
  },
  {
   "cell_type": "code",
   "execution_count": 25,
   "metadata": {},
   "outputs": [
    {
     "name": "stdout",
     "output_type": "stream",
     "text": [
      "1\n",
      "1\n",
      "2\n",
      "[[2 3]\n",
      " [3 2]\n",
      " [2 3]\n",
      " [2 3]\n",
      " [2 3]]\n"
     ]
    }
   ],
   "source": [
    "# one dimension array\n",
    "a1= np.array([1,3,4,5])\n",
    "print(a1.ndim)\n",
    "#Two dimension array\n",
    "a2=np.array([[2,3],[3],[2,3,4],[2,3],[2,3,4,5,6]])\n",
    "# \"ndim\" to retrun dimension of array\n",
    "print(a1.ndim)\n",
    "a2=np.array([[2,3],[3,2],[2,3],[2,3],[2,3]])\n",
    "print(a2.ndim)\n",
    "print(a2)"
   ]
  },
  {
   "cell_type": "code",
   "execution_count": 26,
   "metadata": {},
   "outputs": [
    {
     "name": "stdout",
     "output_type": "stream",
     "text": [
      "8\n",
      "4\n"
     ]
    }
   ],
   "source": [
    "# return byte size of element\n",
    "print(a1.itemsize)\n",
    "print(a1.size)"
   ]
  },
  {
   "cell_type": "code",
   "execution_count": 16,
   "metadata": {},
   "outputs": [
    {
     "data": {
      "text/plain": [
       "dtype('int64')"
      ]
     },
     "execution_count": 16,
     "metadata": {},
     "output_type": "execute_result"
    }
   ],
   "source": [
    "# to return current datatype of an array\n",
    "a1.dtype"
   ]
  },
  {
   "cell_type": "code",
   "execution_count": 18,
   "metadata": {},
   "outputs": [
    {
     "name": "stdout",
     "output_type": "stream",
     "text": [
      "[1 3 4 5]\n"
     ]
    }
   ],
   "source": [
    "print(a1)"
   ]
  },
  {
   "cell_type": "code",
   "execution_count": 20,
   "metadata": {},
   "outputs": [
    {
     "data": {
      "text/plain": [
       "array([1, 3, 4, 5])"
      ]
     },
     "execution_count": 20,
     "metadata": {},
     "output_type": "execute_result"
    }
   ],
   "source": [
    "a1"
   ]
  },
  {
   "cell_type": "code",
   "execution_count": 32,
   "metadata": {},
   "outputs": [
    {
     "name": "stdout",
     "output_type": "stream",
     "text": [
      "[[2 3]\n",
      " [3 2]\n",
      " [2 3]\n",
      " [2 3]\n",
      " [2 3]]\n",
      "[[2. 3.]\n",
      " [3. 2.]\n",
      " [2. 3.]\n",
      " [2. 3.]\n",
      " [2. 3.]]\n"
     ]
    },
    {
     "data": {
      "text/plain": [
       "array([[2., 3.],\n",
       "       [3., 2.],\n",
       "       [2., 3.],\n",
       "       [2., 3.],\n",
       "       [2., 3.]])"
      ]
     },
     "execution_count": 32,
     "metadata": {},
     "output_type": "execute_result"
    }
   ],
   "source": [
    "# to change the datatype\n",
    "a2=np.array([[2,3],[3,2],[2,3],[2,3],[2,3]])\n",
    "print(a2)\n",
    "#a2\n",
    "a2=np.array([[2,3],[3,2],[2,3],[2,3],[2,3]], dtype=np.float64)\n",
    "print(a2)\n",
    "a2"
   ]
  },
  {
   "cell_type": "code",
   "execution_count": 34,
   "metadata": {},
   "outputs": [
    {
     "name": "stdout",
     "output_type": "stream",
     "text": [
      "(5, 2)\n"
     ]
    }
   ],
   "source": [
    "# \"shape\"- to return a*b type dimension (row ,column)\n",
    "\n",
    "print(a2.shape)"
   ]
  },
  {
   "cell_type": "code",
   "execution_count": 36,
   "metadata": {},
   "outputs": [
    {
     "data": {
      "text/plain": [
       "array([[2.+0.j, 3.+0.j],\n",
       "       [3.+0.j, 2.+0.j],\n",
       "       [2.+0.j, 3.+0.j],\n",
       "       [2.+0.j, 3.+0.j],\n",
       "       [2.+0.j, 3.+0.j]])"
      ]
     },
     "execution_count": 36,
     "metadata": {},
     "output_type": "execute_result"
    }
   ],
   "source": [
    "a2=np.array([[2,3],[3,2],[2,3],[2,3],[2,3]], dtype=complex)\n",
    "a2"
   ]
  },
  {
   "cell_type": "code",
   "execution_count": 37,
   "metadata": {},
   "outputs": [
    {
     "data": {
      "text/plain": [
       "array([[0., 0., 0., 0.],\n",
       "       [0., 0., 0., 0.],\n",
       "       [0., 0., 0., 0.]])"
      ]
     },
     "execution_count": 37,
     "metadata": {},
     "output_type": "execute_result"
    }
   ],
   "source": [
    "# to intialize the numpy array\n",
    "\n",
    "np.zeros((3,4))"
   ]
  },
  {
   "cell_type": "code",
   "execution_count": 38,
   "metadata": {},
   "outputs": [
    {
     "data": {
      "text/plain": [
       "array([0., 0., 0., 0.])"
      ]
     },
     "execution_count": 38,
     "metadata": {},
     "output_type": "execute_result"
    }
   ],
   "source": [
    "np.zeros((4))"
   ]
  },
  {
   "cell_type": "code",
   "execution_count": 39,
   "metadata": {},
   "outputs": [
    {
     "data": {
      "text/plain": [
       "array([[1., 1., 1., 1., 1.],\n",
       "       [1., 1., 1., 1., 1.],\n",
       "       [1., 1., 1., 1., 1.],\n",
       "       [1., 1., 1., 1., 1.]])"
      ]
     },
     "execution_count": 39,
     "metadata": {},
     "output_type": "execute_result"
    }
   ],
   "source": [
    "np.ones((4,5))"
   ]
  },
  {
   "cell_type": "code",
   "execution_count": 52,
   "metadata": {},
   "outputs": [
    {
     "name": "stdout",
     "output_type": "stream",
     "text": [
      "range(0, 5)\n",
      "[0 1 2 3 4 5 6]\n"
     ]
    },
    {
     "data": {
      "text/plain": [
       "array([3, 5, 7])"
      ]
     },
     "execution_count": 52,
     "metadata": {},
     "output_type": "execute_result"
    }
   ],
   "source": [
    "# range and arange \n",
    "\n",
    "l=range(5)\n",
    "l\n",
    "print(l)\n",
    "l[1]\n",
    "\n",
    "# 5 will not included\n",
    "\n",
    "a1=np.arange(7)\n",
    "a1\n",
    "print(a1)\n",
    "\n",
    "# arange(start,end,step)\n",
    "a=np.arange(3,8,2)\n",
    "a"
   ]
  },
  {
   "cell_type": "code",
   "execution_count": 5,
   "metadata": {},
   "outputs": [
    {
     "name": "stdout",
     "output_type": "stream",
     "text": [
      "[ 1.  2.  3.  4.  5.  6.  7.  8.  9. 10.]\n",
      "[2.         2.15789474 2.31578947 2.47368421 2.63157895 2.78947368\n",
      " 2.94736842 3.10526316 3.26315789 3.42105263 3.57894737 3.73684211\n",
      " 3.89473684 4.05263158 4.21052632 4.36842105 4.52631579 4.68421053\n",
      " 4.84210526 5.        ]\n"
     ]
    }
   ],
   "source": [
    "# to generate the no between two number\n",
    "# np.linspace(start number, stop number,quntitity of number)\n",
    "# this is called linear sequence of number\n",
    "print(np.linspace(1,10,10))\n",
    "\n",
    "print(np.linspace(2,5,20))"
   ]
  },
  {
   "cell_type": "code",
   "execution_count": 19,
   "metadata": {},
   "outputs": [
    {
     "name": "stdout",
     "output_type": "stream",
     "text": [
      "[[2 3]\n",
      " [3 4]\n",
      " [4 5]]\n",
      "\n",
      "(3, 2)\n",
      "\n",
      "[[2 3 3]\n",
      " [4 4 5]]\n",
      "\n",
      "[[2]\n",
      " [3]\n",
      " [3]\n",
      " [4]\n",
      " [4]\n",
      " [5]]\n",
      "\n",
      "[2 3 3 4 4 5]\n",
      "\n",
      "[[2 3]\n",
      " [3 4]\n",
      " [4 5]]\n"
     ]
    }
   ],
   "source": [
    "# to reshape the array- np.reshape\n",
    "a= np.array([[2,3],[3,4],[4,5]])\n",
    "print(a)\n",
    "print()\n",
    "print(a.shape)\n",
    "print()\n",
    "print(a.reshape(2,3))\n",
    "\n",
    "print()\n",
    "print(a.reshape(6,1))\n",
    "# make sure it is compatible with initail array\n",
    "\n",
    "\n",
    "# to flaten the array means convert into one dimision array\n",
    "print()\n",
    "print(a.ravel())\n",
    "print()\n",
    "print(a)\n",
    "\n",
    "# After all the above operation...original array doesnot affected....It will remain be same"
   ]
  },
  {
   "cell_type": "markdown",
   "metadata": {},
   "source": [
    "# Some more operation on array"
   ]
  },
  {
   "cell_type": "code",
   "execution_count": 22,
   "metadata": {},
   "outputs": [
    {
     "name": "stdout",
     "output_type": "stream",
     "text": [
      "2\n",
      "\n",
      "5\n",
      "\n",
      "21\n",
      "\n",
      "\n",
      "[ 9 12]\n",
      "\n",
      "[5 7 9]\n"
     ]
    }
   ],
   "source": [
    "# To find minimum , Maximimum , sum of all element, sum of all row or column wise\n",
    "\n",
    "print(a.min())\n",
    "print()\n",
    "print(a.max())\n",
    "print()\n",
    "print(a.sum())\n",
    "print()\n",
    "\n",
    "# axis=1 represent row wise  and axis=0 represent column\n",
    "print()\n",
    "\n",
    "print(a.sum(axis=0))\n",
    "print()\n",
    "print(a.sum(axis=1))"
   ]
  },
  {
   "cell_type": "code",
   "execution_count": 23,
   "metadata": {},
   "outputs": [
    {
     "name": "stdout",
     "output_type": "stream",
     "text": [
      "[[1.41421356 1.73205081]\n",
      " [1.73205081 2.        ]\n",
      " [2.         2.23606798]]\n",
      "\n",
      "[[2 3]\n",
      " [3 4]\n",
      " [4 5]]\n"
     ]
    }
   ],
   "source": [
    "# to find squreroot of element of array\n",
    "\n",
    "print(np.sqrt(a))\n",
    "print()\n",
    "print(a)"
   ]
  },
  {
   "cell_type": "code",
   "execution_count": 28,
   "metadata": {},
   "outputs": [
    {
     "name": "stdout",
     "output_type": "stream",
     "text": [
      "0.9574271077563381\n",
      "\n",
      "3.5\n",
      "\n",
      "3.5\n"
     ]
    }
   ],
   "source": [
    "# to find Standard Deviation, mean, median etc\n",
    "print(a.std())\n",
    "print()\n",
    "print(a.mean())\n",
    "print()\n",
    "print(np.median(a))"
   ]
  },
  {
   "cell_type": "code",
   "execution_count": 31,
   "metadata": {},
   "outputs": [
    {
     "name": "stdout",
     "output_type": "stream",
     "text": [
      "[[16 21]\n",
      " [28 37]]\n"
     ]
    }
   ],
   "source": [
    "# to get the matrix product\n",
    "a=np.array([[2,3],[4,5]])\n",
    "\n",
    "print(a.dot(a))"
   ]
  },
  {
   "cell_type": "code",
   "execution_count": null,
   "metadata": {},
   "outputs": [],
   "source": []
  }
 ],
 "metadata": {
  "kernelspec": {
   "display_name": "Python 3",
   "language": "python",
   "name": "python3"
  },
  "language_info": {
   "codemirror_mode": {
    "name": "ipython",
    "version": 3
   },
   "file_extension": ".py",
   "mimetype": "text/x-python",
   "name": "python",
   "nbconvert_exporter": "python",
   "pygments_lexer": "ipython3",
   "version": "3.7.6"
  }
 },
 "nbformat": 4,
 "nbformat_minor": 4
}
